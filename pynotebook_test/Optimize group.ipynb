{
 "cells": [
  {
   "cell_type": "code",
   "execution_count": 165,
   "id": "179a18da",
   "metadata": {},
   "outputs": [],
   "source": [
    "# Import libraries\n",
    "\n",
    "import numpy as np\n",
    "\n",
    "import pandas\n",
    "from pandas import ExcelFile\n",
    "\n",
    "import mip\n",
    "from mip import Model, xsum, maximize, BINARY\n",
    "\n",
    "#might need ...\n",
    "#import math\n",
    "#import datetime\n",
    "#import matplotlib.pyplot as plt"
   ]
  },
  {
   "cell_type": "code",
   "execution_count": 166,
   "id": "c69c607e",
   "metadata": {},
   "outputs": [],
   "source": [
    "# Acquisizione dei dati dal foglio elettronico\n",
    "\n",
    "relations = pandas.read_excel('Items.xlsx',sheet_name='Relations')"
   ]
  },
  {
   "cell_type": "code",
   "execution_count": 180,
   "id": "a8c4f43f",
   "metadata": {},
   "outputs": [],
   "source": [
    "# Definizione della lista di elementi\n",
    "\n",
    "elementi = [{'Name': 'AA Batteries', 'Quantity': 2}, \n",
    "            {'Name': 'AAA Batteries', 'Quantity': 2}, \n",
    "            {'Name': 'HDMI Cable', 'Quantity': 1}, \n",
    "            {'Name': 'Facial Cleanser', 'Quantity': 2}, \n",
    "            {'Name': 'Eyeshadow Palette', 'Quantity': 2}, \n",
    "            {'Name': 'Aromatherapy Diffuser', 'Quantity': 1}]\n",
    "\n",
    "# Definizione della matrice di correlazione tra gli elementi\n",
    "matrice_correlazione =  np.zeros( (len(elementi), len(elementi)) )\n",
    "\n",
    "for i in range(len(elementi)):\n",
    "    for j in range(len(elementi)):\n",
    "        if i != j:\n",
    "            matrice_correlazione[i][j] = relations.loc[relations['Product'] == elementi[i]['Name'], elementi[j]['Name']].values[0]\n",
    "# Assicurati che la matrice di correlazione sia simmetrica e con diagonale principale uguale a 0"
   ]
  },
  {
   "cell_type": "code",
   "execution_count": 181,
   "id": "b0897e27",
   "metadata": {},
   "outputs": [
    {
     "data": {
      "text/plain": [
       "array([[0. , 0.8, 0.2, 0. , 0. , 0.7],\n",
       "       [1. , 0. , 0.3, 0. , 0. , 0.3],\n",
       "       [2. , 0.3, 0. , 0. , 0. , 0. ],\n",
       "       [0. , 0. , 0. , 0. , 0.5, 0.3],\n",
       "       [0. , 0. , 0. , 0.5, 0. , 0.2],\n",
       "       [0.7, 0.3, 0. , 0.3, 0.2, 0. ]])"
      ]
     },
     "execution_count": 181,
     "metadata": {},
     "output_type": "execute_result"
    }
   ],
   "source": [
    "matrice_correlazione"
   ]
  },
  {
   "cell_type": "code",
   "execution_count": 182,
   "id": "c5e66b37",
   "metadata": {},
   "outputs": [],
   "source": [
    "# Definizione del modello\n",
    "\n",
    "modello = Model()\n",
    "\n",
    "# Variabile decisionale: Crea una variabile binaria per ogni elemento e matrice per la correlazione\n",
    "x = [modello.add_var(var_type=BINARY) for _ in elementi]\n",
    "y = [[modello.add_var(var_type=BINARY) for _ in elementi] for _ in elementi]\n",
    "\n",
    "# Funzione obiettivo: massimizza la correlazione tra gli elementi del gruppo\n",
    "modello.objective = maximize(xsum(matrice_correlazione[i][j] * y[i][j] for i in range(len(elementi)) for j in range(len(elementi))))\n",
    "\n",
    "# Vincoli: Il gruppo deve contenere esattamente 4 elementi, la matrice y dev'essere coerente con l'array degli elementi selezionati\n",
    "modello += sum(x) == 4\n",
    "\n",
    "for i in range(len(elementi)):\n",
    "    for j in range(len(elementi)):\n",
    "        modello += y[i][j] <= x[i]              #se x[i] non è presente -> y[i][j] = 0\n",
    "        modello += y[i][j] <= x[j]              #se x[j] non è presente -> y[i][j] = 0\n",
    "        modello += y[i][j] >= x[i] + x[j] - 1   #se x[i] & x[j] sono presenti -> y[i][j] = 1"
   ]
  },
  {
   "cell_type": "code",
   "execution_count": 183,
   "id": "f2b4ac9e",
   "metadata": {},
   "outputs": [],
   "source": [
    "# Ottimizzazione\n",
    "\n",
    "modello.optimize()\n",
    "\n",
    "array_ottimale = [x[i].x for i in range(len(elementi))]\n",
    "gruppo_ottimale = [elementi[i]['Name'] for i in range(len(elementi)) if x[i].x == 1.0]\n",
    "matrice_ottimale = [[y[i][j].x for j in range(len(elementi))] for i in range(len(elementi))]"
   ]
  },
  {
   "cell_type": "code",
   "execution_count": 184,
   "id": "9e33c534",
   "metadata": {},
   "outputs": [
    {
     "data": {
      "text/plain": [
       "[1.0, 1.0, 1.0, 0.0, 0.0, 1.0]"
      ]
     },
     "execution_count": 184,
     "metadata": {},
     "output_type": "execute_result"
    }
   ],
   "source": [
    "array_ottimale"
   ]
  },
  {
   "cell_type": "code",
   "execution_count": 185,
   "id": "2063360f",
   "metadata": {},
   "outputs": [
    {
     "data": {
      "text/plain": [
       "['AA Batteries', 'AAA Batteries', 'HDMI Cable', 'Aromatherapy Diffuser']"
      ]
     },
     "execution_count": 185,
     "metadata": {},
     "output_type": "execute_result"
    }
   ],
   "source": [
    "gruppo_ottimale"
   ]
  },
  {
   "cell_type": "code",
   "execution_count": 186,
   "id": "744ae4e2",
   "metadata": {},
   "outputs": [
    {
     "name": "stdout",
     "output_type": "stream",
     "text": [
      "0.0, 1.0, 1.0, 0.0, 0.0, 1.0,  \n",
      "1.0, 0.0, 1.0, 0.0, 0.0, 1.0,  \n",
      "1.0, 1.0, 0.0, 0.0, 0.0, 1.0,  \n",
      "0.0, 0.0, 0.0, 0.0, 0.0, 0.0,  \n",
      "0.0, 0.0, 0.0, 0.0, 0.0, 0.0,  \n",
      "1.0, 1.0, 1.0, 0.0, 0.0, 0.0,  \n"
     ]
    }
   ],
   "source": [
    "for i in range(len(elementi)):\n",
    "    for j in range(len(elementi)):\n",
    "        print(matrice_ottimale[i][j], end=', ')\n",
    "    print(' ')"
   ]
  },
  {
   "cell_type": "code",
   "execution_count": 187,
   "id": "20831059",
   "metadata": {},
   "outputs": [
    {
     "data": {
      "text/plain": [
       "6.6"
      ]
     },
     "execution_count": 187,
     "metadata": {},
     "output_type": "execute_result"
    }
   ],
   "source": [
    "modello.objective_value"
   ]
  },
  {
   "cell_type": "code",
   "execution_count": null,
   "id": "c9f52771",
   "metadata": {},
   "outputs": [],
   "source": []
  }
 ],
 "metadata": {
  "kernelspec": {
   "display_name": "Python 3",
   "language": "python",
   "name": "python3"
  },
  "language_info": {
   "codemirror_mode": {
    "name": "ipython",
    "version": 3
   },
   "file_extension": ".py",
   "mimetype": "text/x-python",
   "name": "python",
   "nbconvert_exporter": "python",
   "pygments_lexer": "ipython3",
   "version": "3.8.8"
  }
 },
 "nbformat": 4,
 "nbformat_minor": 5
}
