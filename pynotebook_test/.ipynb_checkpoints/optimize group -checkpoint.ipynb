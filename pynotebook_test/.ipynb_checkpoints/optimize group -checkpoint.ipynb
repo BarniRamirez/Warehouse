{
 "cells": [
  {
   "cell_type": "code",
   "execution_count": null,
   "id": "99aab9ec",
   "metadata": {},
   "outputs": [],
   "source": [
    "#import libraries\n",
    "\n",
    "import math\n",
    "\n",
    "import pandas\n",
    "from pandas import ExcelFile\n",
    "\n",
    "import mip\n",
    "from mip import Model, xsum, maximize, BINARY\n",
    "\n",
    "import datetime\n",
    "import numpy\n",
    "import matplotlib.pyplot as plt\n"
   ]
  },
  {
   "cell_type": "code",
   "execution_count": null,
   "id": "bfef5806",
   "metadata": {},
   "outputs": [],
   "source": [
    "#acquisizione dei dati dal foglio elettronico\n",
    "\n",
    "p_v = pandas.read_excel('file di dati.xls',sheet_name='porzioni di viaggio')\n",
    "t_p = pandas.read_excel('file di dati.xls',sheet_name='tempi di percorrenza a vuoto')"
   ]
  },
  {
   "cell_type": "code",
   "execution_count": null,
   "id": "4c8e34d3",
   "metadata": {},
   "outputs": [],
   "source": [
    "# Definisci l'insieme di elementi\n",
    "elementi = range(1, n + 1)  # n è il numero totale di elementi\n",
    "\n",
    "# Definisci il numero di gruppi\n",
    "num_gruppi = m  # m è il numero totale di gruppi\n",
    "\n",
    "modello = Model()"
   ]
  },
  {
   "cell_type": "code",
   "execution_count": null,
   "id": "2bb4587d",
   "metadata": {},
   "outputs": [],
   "source": [
    "# Crea una variabile binaria per ogni coppia (elemento, gruppo)\n",
    "x = [[modello.add_var(var_type=BINARY) for _ in elementi] for _ in range(num_gruppi)]\n",
    "\n",
    "# Definisci la funzione obiettivo che massimizza la somma degli elementi nei gruppi\n",
    "modello.objective = maximize(xsum(x[i][j] * valore_elemento[j] for i in range(num_gruppi) for j in elementi))"
   ]
  },
  {
   "cell_type": "code",
   "execution_count": null,
   "id": "fd7ceb84",
   "metadata": {},
   "outputs": [],
   "source": [
    "# Crea una variabile binaria per ogni coppia (elemento, gruppo)\n",
    "x = [[modello.add_var(var_type=BINARY) for _ in elementi] for _ in range(num_gruppi)]\n",
    "\n",
    "# Definisci la funzione obiettivo che massimizza la somma degli elementi nei gruppi\n",
    "modello.objective = maximize(xsum(x[i][j] * x[i][k] * valore_elemento[j] for i in range(num_gruppi) for j in elementi for k in elementi))"
   ]
  },
  {
   "cell_type": "code",
   "execution_count": null,
   "id": "aa4aeaac",
   "metadata": {},
   "outputs": [],
   "source": [
    "# Ogni elemento deve appartenere a un solo gruppo\n",
    "for j in elementi:\n",
    "    modello += xsum(x[i][j] for i in range(num_gruppi)) == 1\n",
    "\n",
    "# Ogni gruppo deve contenere almeno un elemento\n",
    "for i in range(num_gruppi):\n",
    "    modello += xsum(x[i][j] for j in elementi) >= 1"
   ]
  },
  {
   "cell_type": "code",
   "execution_count": null,
   "id": "48c3988b",
   "metadata": {},
   "outputs": [],
   "source": [
    "modello.optimize()\n",
    "\n",
    "soluzione = [[x[i][j].x for j in elementi] for i in range(num_gruppi)] "
   ]
  }
 ],
 "metadata": {
  "kernelspec": {
   "display_name": "Python 3",
   "language": "python",
   "name": "python3"
  },
  "language_info": {
   "codemirror_mode": {
    "name": "ipython",
    "version": 3
   },
   "file_extension": ".py",
   "mimetype": "text/x-python",
   "name": "python",
   "nbconvert_exporter": "python",
   "pygments_lexer": "ipython3",
   "version": "3.8.8"
  }
 },
 "nbformat": 4,
 "nbformat_minor": 5
}
